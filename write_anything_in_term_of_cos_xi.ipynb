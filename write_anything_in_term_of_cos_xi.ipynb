{
 "cells": [
  {
   "cell_type": "code",
   "execution_count": 1,
   "metadata": {
    "collapsed": true
   },
   "outputs": [],
   "source": [
    "%matplotlib inline\n",
    "import numpy as np\n",
    "import pylab as pl\n",
    "import scipy.special as special\n",
    "from scipy.integrate import quad"
   ]
  },
  {
   "cell_type": "code",
   "execution_count": 12,
   "metadata": {
    "collapsed": false
   },
   "outputs": [
    {
     "name": "stdout",
     "output_type": "stream",
     "text": [
      "7.02531545641e-11\n"
     ]
    }
   ],
   "source": [
    "#want to plot the integrand in Eq. 60 of the paper\n",
    "#with filled in values of I(...), delta(yn), \n",
    "\n",
    "#constants in natural units\n",
    "m = 1.\n",
    "c = 1.\n",
    "theta_e = 10.\n",
    "#nu_c = 1\n",
    "B = 10.\n",
    "e = 1\n",
    "nu_c = e * B / (2. * np.pi * m * c)\n",
    "\n",
    "\n",
    "#constants in Gaussian cgs units (values from harmony)\n",
    "#m = 9.1e-28\n",
    "#c = 3e10\n",
    "#theta_e = 5.8e10\n",
    "#nu_c = 8.4e7\n",
    "#nu = 5e7\n",
    "\n",
    "\n",
    "#variables to be set (frequency, observer angle, width of delta function, electron number density, \n",
    "# sum index n)\n",
    "\n",
    "nu = 1\n",
    "theta = np.pi/3.\n",
    "epsilon = 0.01\n",
    "n_e = 1\n",
    "\n",
    "cos_xi = np.arange(-1., 1., 2./100)\n",
    "gamma = np.arange(1, 11, 0.1)\n",
    "\n",
    "\n",
    "def delta_function(n, gamma, cos_xi):\n",
    "    beta = np.sqrt(1. - 1./gamma**2.)\n",
    "    argument = (n * nu_c)/gamma - nu * (1 - beta * cos_xi * np.cos(theta))\n",
    "    f = (1/(epsilon * np.sqrt(np.pi))) * np.exp(-argument**2./epsilon**2.)\n",
    "    return f\n",
    "\n",
    "def K_s(n, gamma, cos_xi):\n",
    "    beta = np.sqrt(1. - 1./gamma**2.)\n",
    "    M = (np.cos(theta) - beta * cos_xi)/np.sin(theta)\n",
    "    N = beta * np.sqrt(1. - cos_xi**2)\n",
    "    z = (nu * gamma * beta * np.sin(theta) * np.sqrt(1. - cos_xi**2))/nu_c\n",
    "    K_xx = M**2 * (special.jv(n, z))**2\n",
    "    K_yy = N**2 * (special.jvp(n, z, 1))**2\n",
    "    f = K_xx + K_yy\n",
    "    return f\n",
    "\n",
    "#def multiply_factor(n, gamma, cos_xi):\n",
    "#    f = delta_function(n, gamma, cos_xi) * K_s(n, gamma, cos_xi)\n",
    "#    return f\n",
    "\n",
    "def n_sum(gamma, cos_xi):\n",
    "    n_max     = 2000\n",
    "    total     = 0\n",
    "    for i in range(1,n_max):\n",
    "        total = total + delta_function(i, gamma, cos_xi) * K_s(i, gamma, cos_xi)\n",
    "    return total\n",
    "\n",
    "#def integral_n_over_30(gamma, cos_xi):\n",
    "#    total,error = nquad(multiply_factor, [31., np.inf])\n",
    "#    return total\n",
    "\n",
    "def MJ_f(gamma):\n",
    "    beta = np.sqrt(1. - 1./gamma**2.)\n",
    "    prefactor_MJ  = 1. / (m**3 * c**3 * gamma**2 * beta)\n",
    "    thermal_dist_prefactor = n_e / (4. * np.pi * theta_e)\n",
    "    thermal_dist_exp = np.exp(- gamma/theta_e)\n",
    "    thermal_dist_body = gamma * np.sqrt(gamma**2 - 1.)/special.kn(2., 1./theta_e)\n",
    "    thermal_dist = thermal_dist_prefactor * thermal_dist_body * thermal_dist_exp\n",
    "    MJ = prefactor_MJ * thermal_dist\n",
    "    return MJ\n",
    "\n",
    "\n",
    "def jnu_integrand(cos_xi, gamma):\n",
    "    beta = np.sqrt(1. - 1./gamma**2.)\n",
    "    \n",
    "    prefactor_Jnu = 2. * np.pi * e**2 * nu**2 / c\n",
    "    \n",
    "    d_3_p = m**3 * c**3 * gamma**2 * beta * 2 * np.pi\n",
    "    \n",
    "    #I = prefactor_Jnu * MJ_f(gamma) * d_3_p * K_s(n, gamma, cos_xi)\n",
    "    \n",
    "    #f = delta_function(n, gamma, cos_xi) * I * (-1.) * np.sin(cos_xi)\n",
    "    \n",
    "    #to do integral, we need to change dcos(xi) into -sin(xi)dxi\n",
    "    f = prefactor_Jnu * MJ_f(gamma) * n_sum(gamma, cos_xi) * d_3_p\n",
    "    #f = prefactor_Jnu * MJ_f(gamma) * (n_sum(gamma, xi)) * d_3_p * (-1.) * np.sin(xi)\n",
    "    return f\n",
    "\n",
    "print(jnu_integrand(0.5, 12))"
   ]
  },
  {
   "cell_type": "code",
   "execution_count": null,
   "metadata": {
    "collapsed": true
   },
   "outputs": [],
   "source": []
  }
 ],
 "metadata": {
  "kernelspec": {
   "display_name": "Python 2",
   "language": "python",
   "name": "python2"
  },
  "language_info": {
   "codemirror_mode": {
    "name": "ipython",
    "version": 2
   },
   "file_extension": ".py",
   "mimetype": "text/x-python",
   "name": "python",
   "nbconvert_exporter": "python",
   "pygments_lexer": "ipython2",
   "version": "2.7.9"
  }
 },
 "nbformat": 4,
 "nbformat_minor": 0
}
