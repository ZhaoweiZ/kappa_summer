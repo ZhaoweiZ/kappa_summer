{
 "cells": [
  {
   "cell_type": "code",
   "execution_count": 2,
   "metadata": {
    "collapsed": true
   },
   "outputs": [],
   "source": [
    "%matplotlib inline\n",
    "import numpy as np\n",
    "import pylab as pl\n",
    "import scipy.special as special\n",
    "from scipy.optimize import curve_fit\n",
    "#import mpmath as mm\n",
    "from scipy.integrate import quad\n",
    "from scipy.integrate import nquad\n",
    "\n",
    "# Set plot parameters to make beautiful plots\n",
    "pl.rcParams['figure.figsize']  = 12, 7.5\n",
    "pl.rcParams['lines.linewidth'] = 1.5\n",
    "pl.rcParams['font.family']     = 'serif'\n",
    "pl.rcParams['font.weight']     = 'bold'\n",
    "pl.rcParams['font.size']       = 20  \n",
    "pl.rcParams['font.sans-serif'] = 'serif'\n",
    "#pl.rcParams['text.usetex']     = True\n",
    "pl.rcParams['axes.linewidth']  = 1.5\n",
    "pl.rcParams['axes.titlesize']  = 'medium'\n",
    "pl.rcParams['axes.labelsize']  = 'medium'\n",
    "\n",
    "pl.rcParams['xtick.major.size'] = 8     \n",
    "pl.rcParams['xtick.minor.size'] = 4     \n",
    "pl.rcParams['xtick.major.pad']  = 8     \n",
    "pl.rcParams['xtick.minor.pad']  = 8     \n",
    "pl.rcParams['xtick.color']      = 'k'     \n",
    "pl.rcParams['xtick.labelsize']  = 'medium'\n",
    "pl.rcParams['xtick.direction']  = 'in'    \n",
    "\n",
    "pl.rcParams['ytick.major.size'] = 8     \n",
    "pl.rcParams['ytick.minor.size'] = 4     \n",
    "pl.rcParams['ytick.major.pad']  = 8     \n",
    "pl.rcParams['ytick.minor.pad']  = 8     \n",
    "pl.rcParams['ytick.color']      = 'k'     \n",
    "pl.rcParams['ytick.labelsize']  = 'medium'\n",
    "pl.rcParams['ytick.direction']  = 'in'    \n",
    "\n",
    "\n",
    "\n",
    "\n",
    "\n",
    "\n",
    "#want to plot the integrand in Eq. 60 of the paper\n",
    "#with filled in values of I(...), delta(yn), \n",
    "\n",
    "#constants in natural units\n",
    "#m = 1.\n",
    "#c = 1.\n",
    "theta_e = 10.\n",
    "#w without specific declear should of value 10\n",
    "w = 10.\n",
    "#theta_e_1 = 10.\n",
    "#nu_c = 1\n",
    "#B = 10.\n",
    "#e = 1\n",
    "\n",
    "\n",
    "#constants in Gaussian cgs units (values from harmony)\n",
    "m = 9.1093826e-28\n",
    "c = 2.99792458e10\n",
    "e = 4.80320680e-10\n",
    "B = 30.\n",
    "#n_e = 4.\n",
    "h = 6.6260755e-27\n",
    "k = 1.380658e-16\n",
    "T_e = m * c**2 * theta_e / k\n",
    "\n",
    "\n",
    "#variables to be set (frequency, observer angle, width of delta function, electron number density, \n",
    "# sum index n)\n",
    "\n",
    "kappa = 3.5\n",
    "theta = 12. * np.pi / 36.\n",
    "epsilon = 0.01\n",
    "n_e = 1.\n",
    "nu_c = e * B / (2. * np.pi * m * c)\n",
    "nu = 100 * nu_c\n",
    "nu_s = (2./9.) * nu_c * theta_e**2 * np.sin(theta)\n",
    "nu_k = nu_c * w**2. * np.sin(theta)\n",
    "nu_w = nu_c * (w * kappa)**2 * np.sin(theta)\n",
    "#n_e_nt = 2.\n",
    "#p_PL = 2.2\n",
    "p_PL = 2.5\n",
    "gamma_50_min = 1.\n",
    "gamma_50_max = 1000.\n",
    "#gamma_50_max = 100.\n",
    "C = 1.\n",
    "n_dn = (nu / nu_c) * abs(np.sin(theta))\n",
    "Index_cutoff = 0.001\n",
    "\n",
    "gamma_cutoff = 100000000000.\n",
    "#print nu_c"
   ]
  },
  {
   "cell_type": "code",
   "execution_count": 71,
   "metadata": {
    "collapsed": false
   },
   "outputs": [
    {
     "name": "stdout",
     "output_type": "stream",
     "text": [
      "(array([ 2.45865024, -2.37823273, -2.46123573,  0.4751667 ]), array([[ 0.00683407,  0.00597953, -0.00669559,  0.00072186],\n",
      "       [ 0.00597953,  0.01419222, -0.00515739,  0.00213048],\n",
      "       [-0.00669559, -0.00515739,  0.00669595, -0.00058998],\n",
      "       [ 0.00072186,  0.00213048, -0.00058998,  0.00032743]]))\n",
      "[ 0.17364818  0.34202014  0.5         0.64278761  0.76604444  0.8660254\n",
      "  0.93969262  0.96592583  0.98480775  0.9961947 ]\n"
     ]
    },
    {
     "data": {
      "image/png": "[encoded data removed]",
      "text/plain": [
       "<matplotlib.figure.Figure at 0x7fd1e8c519d0>"
      ]
     },
     "metadata": {},
     "output_type": "display_data"
    }
   ],
   "source": [
    "data_kappa_V_low_theta_fit = np.loadtxt('/home/zhaowei/Documents/data_summer/V_mode/kappa_V_low_theta_fit.txt')\n",
    "\n",
    "x_514 = np.sin(data_kappa_V_low_theta_fit[:,0] * np.pi /180.)\n",
    "y_514 = data_kappa_V_low_theta_fit[:,1]\n",
    "\n",
    "def func_130(x,a,b, d, f):\n",
    "    f = (a * x**b + d)**(f)\n",
    "    return f\n",
    "\n",
    "print curve_fit(func_130, x_514, y_514, p0 = [ 2.45865026, -2.37823266, -2.46123574,  0.47516671])\n",
    "\n",
    "\n",
    "#pl.plot(x_514, y_514, label = 'data')\n",
    "pl.plot(x_514, func_130(x_514, (39./25.)**2., -12./5., - (39./25.)**2.,  12./25.), label = 'fit')\n",
    "\n",
    "\n",
    "pl.legend()\n",
    "\n",
    "\n",
    "print x_514"
   ]
  },
  {
   "cell_type": "code",
   "execution_count": 62,
   "metadata": {
    "collapsed": false
   },
   "outputs": [
    {
     "data": {
      "text/plain": [
       "0.17364817766693033"
      ]
     },
     "execution_count": 62,
     "metadata": {},
     "output_type": "execute_result"
    }
   ],
   "source": [
    "np.sin(np.pi * 10./180.)"
   ]
  },
  {
   "cell_type": "code",
   "execution_count": 72,
   "metadata": {
    "collapsed": false
   },
   "outputs": [
    {
     "data": {
      "text/plain": [
       "1.0016159548058734"
      ]
     },
     "execution_count": 72,
     "metadata": {},
     "output_type": "execute_result"
    }
   ],
   "source": [
    "func_130(np.sin(np.pi/3), (39./25.)**2., -12./5., - (39./25.)**2.,  12./25.)"
   ]
  },
  {
   "cell_type": "code",
   "execution_count": null,
   "metadata": {
    "collapsed": true
   },
   "outputs": [],
   "source": []
  }
 ],
 "metadata": {
  "kernelspec": {
   "display_name": "Python 2",
   "language": "python",
   "name": "python2"
  },
  "language_info": {
   "codemirror_mode": {
    "name": "ipython",
    "version": 2
   },
   "file_extension": ".py",
   "mimetype": "text/x-python",
   "name": "python",
   "nbconvert_exporter": "python",
   "pygments_lexer": "ipython2",
   "version": "2.7.10"
  }
 },
 "nbformat": 4,
 "nbformat_minor": 0
}
