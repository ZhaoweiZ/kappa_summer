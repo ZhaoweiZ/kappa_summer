{
 "cells": [
  {
   "cell_type": "code",
   "execution_count": 1,
   "metadata": {
    "collapsed": true
   },
   "outputs": [],
   "source": [
    "%matplotlib inline\n",
    "import numpy as np\n",
    "import pylab as pl\n",
    "import scipy.special as special\n",
    "from scipy.integrate import quad\n",
    "from scipy.integrate import nquad\n",
    "\n",
    "# Set plot parameters to make beautiful plots\n",
    "pl.rcParams['figure.figsize']  = 12, 7.5\n",
    "pl.rcParams['lines.linewidth'] = 1.5\n",
    "pl.rcParams['font.family']     = 'serif'\n",
    "pl.rcParams['font.weight']     = 'bold'\n",
    "pl.rcParams['font.size']       = 20  \n",
    "pl.rcParams['font.sans-serif'] = 'serif'\n",
    "#pl.rcParams['text.usetex']     = True\n",
    "pl.rcParams['axes.linewidth']  = 1.5\n",
    "pl.rcParams['axes.titlesize']  = 'medium'\n",
    "pl.rcParams['axes.labelsize']  = 'medium'\n",
    "\n",
    "pl.rcParams['xtick.major.size'] = 8     \n",
    "pl.rcParams['xtick.minor.size'] = 4     \n",
    "pl.rcParams['xtick.major.pad']  = 8     \n",
    "pl.rcParams['xtick.minor.pad']  = 8     \n",
    "pl.rcParams['xtick.color']      = 'k'     \n",
    "pl.rcParams['xtick.labelsize']  = 'medium'\n",
    "pl.rcParams['xtick.direction']  = 'in'    \n",
    "\n",
    "pl.rcParams['ytick.major.size'] = 8     \n",
    "pl.rcParams['ytick.minor.size'] = 4     \n",
    "pl.rcParams['ytick.major.pad']  = 8     \n",
    "pl.rcParams['ytick.minor.pad']  = 8     \n",
    "pl.rcParams['ytick.color']      = 'k'     \n",
    "pl.rcParams['ytick.labelsize']  = 'medium'\n",
    "pl.rcParams['ytick.direction']  = 'in'    "
   ]
  },
  {
   "cell_type": "code",
   "execution_count": 12,
   "metadata": {
    "collapsed": true
   },
   "outputs": [],
   "source": [
    "#want to plot the integrand in Eq. 60 of the paper\n",
    "#with filled in values of I(...), delta(yn), \n",
    "\n",
    "#constants in natural units\n",
    "#m = 1.\n",
    "#c = 1.\n",
    "theta_e = 10.\n",
    "#nu_c = 1\n",
    "#B = 10.\n",
    "#e = 1\n",
    "\n",
    "\n",
    "#constants in Gaussian cgs units (values from harmony)\n",
    "m = 9.1093826e-28\n",
    "c = 2.99792458e10\n",
    "e = 4.80320680e-10\n",
    "h = 6.6260755e-27\n",
    "k_Bol = 1.380658e-16\n",
    "B = 30.0\n",
    "#n_e = 100000.\n",
    "\n",
    "\n",
    "theta = np.pi/3.\n",
    "epsilon = 0.01\n",
    "n_e = 1\n",
    "nu_c = e * B / (2. * np.pi * m * c)\n",
    "#nu_c = 1.\n",
    "nu = 1. * nu_c\n",
    "nu_s = (2./9.) * nu_c * theta_e**2 * np.sin(theta)\n",
    "\n",
    "#cos_xi = np.arange(-1., 1., 2./100)\n",
    "#cos_xi = 0.5\n",
    "#cos_xi = (gamma * nu - n_e * nu_c) / (gamma * nu * beta * np.cos(theta))\n",
    "\n",
    "#cos_xi = np.arange(-1, 1, 0.1)\n",
    "#gamma = np.arange(1, 11, 0.1)\n",
    "\n",
    "#def delta_function(n, gamma):\n",
    "#    beta = np.sqrt(1. - 1./gamma**2.)\n",
    "#    cos_xi = (gamma * nu - n_e * nu_c) / (gamma * nu * beta * np.cos(theta))\n",
    "#    argument = (n * nu_c)/gamma - nu * (1 - beta * cos_xi * np.cos(theta))\n",
    "#    f = (1/(epsilon * np.sqrt(np.pi))) * np.exp(-argument**2./epsilon**2.)\n",
    "#    return f\n",
    "\n",
    "\n",
    "n_dn = (nu / nu_c) * abs(np.sin(theta))\n",
    "#beta_here = np.sqrt(1. - 1./((1. + theta_e)**2)) \n",
    "#ans = (theta_e + 1.) * (nu/nu_c) * (1. - beta_here**2 * (np.cos(theta))**2)\n",
    "C = 10.\n",
    "\n",
    "#def n_up(gamma):\n",
    "#    beta = np.sqrt(1. - 1./gamma**2.)\n",
    "#    ans = 10.* (theta_e + 1. + (2. * theta_e * nu/nu_c)**(1./3.)) * (nu/nu_c) * (1. - beta**2 * (np.cos(theta))**2)\n",
    "#    return ans\n",
    "    "
   ]
  },
  {
   "cell_type": "code",
   "execution_count": 10,
   "metadata": {
    "collapsed": true
   },
   "outputs": [],
   "source": [
    "def K_s(n, gamma):\n",
    "    beta = np.sqrt(1. - 1./gamma**2.)\n",
    "    cos_xi = (gamma * nu - n * nu_c) / (gamma * nu * beta * np.cos(theta))\n",
    "    M = (np.cos(theta) - beta * cos_xi)/np.sin(theta)\n",
    "    N = beta * np.sqrt(1. - cos_xi**2)\n",
    "    z = (nu * gamma * beta * np.sin(theta) * np.sqrt(1. - cos_xi**2))/nu_c\n",
    "    K_xx = M**2 * (special.jv(n, z))**2\n",
    "    K_yy = N**2 * (special.jvp(n, z, 1))**2\n",
    "    ans = K_xx + K_yy\n",
    "    return ans\n",
    "\n",
    "def gamma_up_limit(n):\n",
    "    gamma_up_nume = (n * nu_c /nu) + np.absolute(np.cos(theta)) * np.sqrt((n * nu_c /nu)**2 - (np.sin(theta))**2)\n",
    "    gamma_deno = (np.sin(theta))**2\n",
    "    gamma_up = gamma_up_nume / gamma_deno\n",
    "    return gamma_up\n",
    "\n",
    "def gamma_dn_limit(n):\n",
    "    gamma_dn_nume = (n * nu_c /nu) - np.absolute(np.cos(theta)) * np.sqrt((n * nu_c /nu)**2 - (np.sin(theta))**2)\n",
    "    gamma_deno = (np.sin(theta))**2\n",
    "    gamma_dn = gamma_dn_nume / gamma_deno\n",
    "    return gamma_dn\n",
    "\n",
    "def Operator_D_gamma(gamma):\n",
    "    prefactor = (np.pi * nu / (m * c**2)) * (n_e / (theta_e * special.kn(2., 1./theta_e)))\n",
    "    body = (- 1./theta_e) * np.exp(- gamma / theta_e)\n",
    "    f = prefactor * body\n",
    "    return f\n",
    "\n",
    "gamma_here_1 = np.sqrt((1. + theta_e) * (2. * theta_e * nu/nu_c)**(1./3.))\n",
    "beta_here_1  = np.sqrt(1. - 1./(gamma_here_1**2))\n",
    "n_peak_first_part = (theta_e + 1. + (2. * theta_e * nu/nu_c)**(1./3.))\n",
    "n_peak_second_part = (nu/nu_c) * (1. - (beta_here_1 * np.cos(theta))**2)\n",
    "n_peak       = n_peak_first_part * n_peak_second_part\n",
    "\n",
    "\n",
    "def absorptivity_I_62(n, gamma):\n",
    "    \n",
    "    beta = np.sqrt(1. - 1./gamma**2.)\n",
    "    cos_xi = (gamma * nu - n_e * nu_c) / (gamma * nu * beta * np.cos(theta))\n",
    "    \n",
    "    prefactor = - c * e**2 / (2. * nu)\n",
    "    body_1 = gamma**2 * beta\n",
    "    body_2 = Operator_D_gamma(gamma) * K_s(n, gamma)\n",
    "    f = prefactor * body_1 * body_2\n",
    "    return f\n",
    "\n",
    "def absorptivity_integrand_62(n, gamma):\n",
    "    beta = np.sqrt(1. - 1./gamma**2.)\n",
    "    prefactor = 1./(nu * beta * abs(np.cos(theta)))\n",
    "    f = absorptivity_I_62(n, gamma) * prefactor\n",
    "    return f\n",
    "\n",
    "def anu_n_integral_62_one(n):\n",
    "    \n",
    "    def absorptivity_integrand_62_once(gamma):\n",
    "        jnu_integrand_62 = absorptivity_integrand_62(n, gamma)\n",
    "        return jnu_integrand_62\n",
    "    \n",
    "    ans_once = quad(absorptivity_integrand_62_once, gamma_dn_limit(n), gamma_up_limit(n), epsabs = 0, epsrel = 1e-8)[0]\n",
    "    \n",
    "    return ans_once\n",
    "\n",
    "def anu_62_integral_from_n_max_to_n_limit(n_max, n_dn):\n",
    "    \n",
    "    if(n_max < n_dn):\n",
    "        n_max = n_dn\n",
    "    \n",
    "    ans = quad(anu_n_integral_62_one, n_max, C * n_peak, epsabs = 0, epsrel = 1e-8)[0]\n",
    "    \n",
    "    return ans\n",
    "    \n",
    "\n",
    "def anu_62_sum_to_n_max_integral_to_n_limit(n_max_sum):\n",
    "    ans = 0\n",
    "    for i in range(int(n_dn + 1.), int(1 + n_dn + n_max_sum)):\n",
    "        ans = ans + anu_n_integral_62_one(i)\n",
    "#        print ans\n",
    "        \n",
    "    total = ans + anu_62_integral_from_n_max_to_n_limit(n_max_sum, n_dn)\n",
    "    return total\n",
    "\n"
   ]
  },
  {
   "cell_type": "code",
   "execution_count": 11,
   "metadata": {
    "collapsed": false
   },
   "outputs": [
    {
     "name": "stdout",
     "output_type": "stream",
     "text": [
      "8.57856082973e-13\n"
     ]
    }
   ],
   "source": [
    "n_max_sum = 30.\n",
    "\n",
    "print anu_62_sum_to_n_max_integral_to_n_limit(n_max_sum)"
   ]
  },
  {
   "cell_type": "code",
   "execution_count": 14,
   "metadata": {
    "collapsed": false
   },
   "outputs": [
    {
     "name": "stdout",
     "output_type": "stream",
     "text": [
      "1.10252089831e-22\n"
     ]
    }
   ],
   "source": [
    "T_e = theta_e * m * c**2 / k_Bol\n",
    "def Planck_function():\n",
    "    prefactor = 2. * h * nu**3 / (c**2)\n",
    "    tail = 1. / (np.exp(h * nu / (k_Bol * T_e)) - 1.)\n",
    "    ans = prefactor * tail\n",
    "    return ans\n",
    "\n",
    "print Planck_function() * 8.57856082973e-13"
   ]
  },
  {
   "cell_type": "code",
   "execution_count": null,
   "metadata": {
    "collapsed": true
   },
   "outputs": [],
   "source": []
  }
 ],
 "metadata": {
  "kernelspec": {
   "display_name": "Python 2",
   "language": "python",
   "name": "python2"
  },
  "language_info": {
   "codemirror_mode": {
    "name": "ipython",
    "version": 2
   },
   "file_extension": ".py",
   "mimetype": "text/x-python",
   "name": "python",
   "nbconvert_exporter": "python",
   "pygments_lexer": "ipython2",
   "version": "2.7.9"
  }
 },
 "nbformat": 4,
 "nbformat_minor": 0
}
