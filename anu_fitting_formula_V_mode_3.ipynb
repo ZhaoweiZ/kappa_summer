{
 "cells": [
  {
   "cell_type": "code",
   "execution_count": 269,
   "metadata": {
    "collapsed": true
   },
   "outputs": [],
   "source": [
    "%matplotlib inline\n",
    "import numpy as np\n",
    "import pylab as pl\n",
    "import scipy.special as special\n",
    "from scipy.optimize import curve_fit\n",
    "#import mpmath as mm\n",
    "from scipy.integrate import quad\n",
    "from scipy.integrate import nquad\n",
    "\n",
    "# Set plot parameters to make beautiful plots\n",
    "pl.rcParams['figure.figsize']  = 12, 7.5\n",
    "pl.rcParams['lines.linewidth'] = 1.5\n",
    "pl.rcParams['font.family']     = 'serif'\n",
    "pl.rcParams['font.weight']     = 'bold'\n",
    "pl.rcParams['font.size']       = 20  \n",
    "pl.rcParams['font.sans-serif'] = 'serif'\n",
    "#pl.rcParams['text.usetex']     = True\n",
    "pl.rcParams['axes.linewidth']  = 1.5\n",
    "pl.rcParams['axes.titlesize']  = 'medium'\n",
    "pl.rcParams['axes.labelsize']  = 'medium'\n",
    "\n",
    "pl.rcParams['xtick.major.size'] = 8     \n",
    "pl.rcParams['xtick.minor.size'] = 4     \n",
    "pl.rcParams['xtick.major.pad']  = 8     \n",
    "pl.rcParams['xtick.minor.pad']  = 8     \n",
    "pl.rcParams['xtick.color']      = 'k'     \n",
    "pl.rcParams['xtick.labelsize']  = 'medium'\n",
    "pl.rcParams['xtick.direction']  = 'in'    \n",
    "\n",
    "pl.rcParams['ytick.major.size'] = 8     \n",
    "pl.rcParams['ytick.minor.size'] = 4     \n",
    "pl.rcParams['ytick.major.pad']  = 8     \n",
    "pl.rcParams['ytick.minor.pad']  = 8     \n",
    "pl.rcParams['ytick.color']      = 'k'     \n",
    "pl.rcParams['ytick.labelsize']  = 'medium'\n",
    "pl.rcParams['ytick.direction']  = 'in'    \n",
    "\n",
    "\n",
    "\n",
    "\n",
    "\n",
    "\n",
    "#want to plot the integrand in Eq. 60 of the paper\n",
    "#with filled in values of I(...), delta(yn), \n",
    "\n",
    "#constants in natural units\n",
    "#m = 1.\n",
    "#c = 1.\n",
    "theta_e = 10.\n",
    "#w without specific declear should of value 10\n",
    "w = 30.\n",
    "#theta_e_1 = 10.\n",
    "#nu_c = 1\n",
    "#B = 10.\n",
    "#e = 1\n",
    "\n",
    "\n",
    "#constants in Gaussian cgs units (values from harmony)\n",
    "m = 9.1093826e-28\n",
    "c = 2.99792458e10\n",
    "e = 4.80320680e-10\n",
    "B = 30.\n",
    "#n_e = 4.\n",
    "h = 6.6260755e-27\n",
    "k = 1.380658e-16\n",
    "T_e = m * c**2 * theta_e / k\n",
    "\n",
    "\n",
    "#variables to be set (frequency, observer angle, width of delta function, electron number density, \n",
    "# sum index n)\n",
    "\n",
    "kappa = 3.5\n",
    "theta = 16.*np.pi/36.\n",
    "epsilon = 0.01\n",
    "n_e = 1.\n",
    "nu_c = e * B / (2. * np.pi * m * c)\n",
    "nu = 100 * nu_c\n",
    "nu_s = (2./9.) * nu_c * theta_e**2 * np.sin(theta)\n",
    "nu_k = nu_c * w**2. * np.sin(theta)\n",
    "nu_w = nu_c * (w * kappa)**2 * np.sin(theta)\n",
    "#n_e_nt = 2.\n",
    "#p_PL = 2.2\n",
    "p_PL = 2.5\n",
    "gamma_50_min = 1.\n",
    "gamma_50_max = 1000.\n",
    "#gamma_50_max = 100.\n",
    "C = 1.\n",
    "n_dn = (nu / nu_c) * abs(np.sin(theta))\n",
    "Index_cutoff = 0.001\n",
    "\n",
    "gamma_cutoff = 100000000000.\n",
    "#print nu_c"
   ]
  },
  {
   "cell_type": "code",
   "execution_count": 270,
   "metadata": {
    "collapsed": false
   },
   "outputs": [],
   "source": [
    "data_kappa_V_anu_3_B_30_T_10_theta_60 = np.loadtxt('/home/zhaowei/Documents/data_summer/V_mode/kappa_V_anu_3_B_30_T_10_theta_60.txt')\n",
    "\n",
    "data_kappa_V_anu_3_B_30_T_4_theta_80_n_2 = np.loadtxt('/home/zhaowei/Documents/data_summer/V_mode/kappa_V_anu_3_B_30_T_4_theta_80_n_2.txt')\n",
    "\n",
    "data_kappa_V_anu_3_B_20_T_5_theta_80_n_2 = np.loadtxt('/home/zhaowei/Documents/data_summer/V_mode/kappa_V_anu_3_B_20_T_5_theta_80_n_2.txt')\n",
    "\n",
    "\n",
    "\n",
    "data_kappa_V_anu_3_5_B_30_T_10_theta_60 = np.loadtxt('/home/zhaowei/Documents/data_summer/V_mode/kappa_V_anu_3_5_B_30_T_10_theta_60.txt')\n",
    "\n",
    "data_kappa_V_anu_3_5_B_20_T_8_theta_60 = np.loadtxt('/home/zhaowei/Documents/data_summer/V_mode/kappa_V_anu_3_5_B_20_T_8_theta_60.txt')\n",
    "data_kappa_V_anu_3_5_B_10_T_10_theta_40 = np.loadtxt('/home/zhaowei/Documents/data_summer/V_mode/kappa_V_anu_3_5_B_10_T_10_theta_40.txt')\n",
    "\n",
    "data_kappa_V_anu_3_5_B_30_T_5_theta_10 = np.loadtxt('/home/zhaowei/Documents/data_summer/V_mode/kappa_V_anu_3_5_B_30_T_5_theta_10.txt')\n",
    "data_kappa_V_anu_3_5_B_30_T_5_theta_20 = np.loadtxt('/home/zhaowei/Documents/data_summer/V_mode/kappa_V_anu_3_5_B_30_T_5_theta_20.txt')\n",
    "data_kappa_V_anu_3_5_B_30_T_5_theta_30 = np.loadtxt('/home/zhaowei/Documents/data_summer/V_mode/kappa_V_anu_3_5_B_30_T_5_theta_30.txt')\n",
    "data_kappa_V_anu_3_5_B_30_T_5_theta_40 = np.loadtxt('/home/zhaowei/Documents/data_summer/V_mode/kappa_V_anu_3_5_B_30_T_5_theta_40.txt')\n",
    "data_kappa_V_anu_3_5_B_30_T_5_theta_50 = np.loadtxt('/home/zhaowei/Documents/data_summer/V_mode/kappa_V_anu_3_5_B_30_T_5_theta_50.txt')\n",
    "data_kappa_V_anu_3_5_B_30_T_5_theta_70 = np.loadtxt('/home/zhaowei/Documents/data_summer/V_mode/kappa_V_anu_3_5_B_30_T_5_theta_70.txt')\n",
    "\n",
    "data_kappa_V_anu_3_5_B_30_T_5_theta_80 = np.loadtxt('/home/zhaowei/Documents/data_summer/V_mode/kappa_V_anu_3_5_B_30_T_5_theta_80.txt')\n",
    "\n",
    "data_kappa_V_anu_3_5_B_10_T_5_theta_60 = np.loadtxt('/home/zhaowei/Documents/data_summer/V_mode/kappa_V_anu_3_5_B_10_T_5_theta_60.txt')\n",
    "data_kappa_V_anu_3_5_B_20_T_5_theta_60 = np.loadtxt('/home/zhaowei/Documents/data_summer/V_mode/kappa_V_anu_3_5_B_20_T_5_theta_60.txt')\n",
    "data_kappa_V_anu_3_5_B_50_T_5_theta_60 = np.loadtxt('/home/zhaowei/Documents/data_summer/V_mode/kappa_V_anu_3_5_B_50_T_5_theta_60.txt')\n",
    "\n",
    "\n",
    "\n",
    "data_kappa_V_anu_3_5_B_50_T_6_theta_20 = np.loadtxt('/home/zhaowei/Documents/data_summer/V_mode/kappa_V_anu_3_5_B_50_T_6_theta_20.txt')\n",
    "\n",
    "\n",
    "data_kappa_V_anu_3_5_B_30_T_10_theta_60_n_2 = np.loadtxt('/home/zhaowei/Documents/data_summer/V_mode/kappa_V_anu_3_5_B_30_T_10_theta_60_n_2.txt')\n",
    "\n",
    "data_kappa_V_anu_3_5_B_1_T_10_theta_60 = np.loadtxt('/home/zhaowei/Documents/data_summer/V_mode/kappa_V_anu_3_5_B_1_T_10_theta_60.txt')\n",
    "data_kappa_V_anu_3_5_B_10_T_10_theta_60 = np.loadtxt('/home/zhaowei/Documents/data_summer/V_mode/kappa_V_anu_3_5_B_10_T_10_theta_60.txt')\n",
    "data_kappa_V_anu_3_5_B_20_T_10_theta_60 = np.loadtxt('/home/zhaowei/Documents/data_summer/V_mode/kappa_V_anu_3_5_B_20_T_10_theta_60.txt')\n",
    "data_kappa_V_anu_3_5_B_40_T_10_theta_60 = np.loadtxt('/home/zhaowei/Documents/data_summer/V_mode/kappa_V_anu_3_5_B_40_T_10_theta_60.txt')\n",
    "data_kappa_V_anu_3_5_B_50_T_10_theta_60 = np.loadtxt('/home/zhaowei/Documents/data_summer/V_mode/kappa_V_anu_3_5_B_50_T_10_theta_60.txt')\n",
    "data_kappa_V_anu_3_5_B_60_T_10_theta_60 = np.loadtxt('/home/zhaowei/Documents/data_summer/V_mode/kappa_V_anu_3_5_B_60_T_10_theta_60.txt')\n",
    "data_kappa_V_anu_3_5_B_70_T_10_theta_60 = np.loadtxt('/home/zhaowei/Documents/data_summer/V_mode/kappa_V_anu_3_5_B_70_T_10_theta_60.txt')\n",
    "data_kappa_V_anu_3_5_B_80_T_10_theta_60 = np.loadtxt('/home/zhaowei/Documents/data_summer/V_mode/kappa_V_anu_3_5_B_80_T_10_theta_60.txt')\n",
    "data_kappa_V_anu_3_5_B_100_T_10_theta_60 = np.loadtxt('/home/zhaowei/Documents/data_summer/V_mode/kappa_V_anu_3_5_B_100_T_10_theta_60.txt')\n",
    "data_kappa_V_anu_3_5_B_200_T_10_theta_60 = np.loadtxt('/home/zhaowei/Documents/data_summer/V_mode/kappa_V_anu_3_5_B_200_T_10_theta_60.txt')\n",
    "data_kappa_V_anu_3_5_B_500_T_10_theta_60 = np.loadtxt('/home/zhaowei/Documents/data_summer/V_mode/kappa_V_anu_3_5_B_500_T_10_theta_60.txt')\n",
    "\n",
    "\n",
    "\n",
    "data_kappa_V_anu_3_5_B_30_T_3_theta_60 = np.loadtxt('/home/zhaowei/Documents/data_summer/V_mode/kappa_V_anu_3_5_B_30_T_3_theta_60.txt')\n",
    "data_kappa_V_anu_3_5_B_30_T_4_theta_60 = np.loadtxt('/home/zhaowei/Documents/data_summer/V_mode/kappa_V_anu_3_5_B_30_T_4_theta_60.txt')\n",
    "data_kappa_V_anu_3_5_B_30_T_5_theta_60 = np.loadtxt('/home/zhaowei/Documents/data_summer/V_mode/kappa_V_anu_3_5_B_30_T_5_theta_60.txt')\n",
    "data_kappa_V_anu_3_5_B_30_T_6_theta_60 = np.loadtxt('/home/zhaowei/Documents/data_summer/V_mode/kappa_V_anu_3_5_B_30_T_6_theta_60.txt')\n",
    "data_kappa_V_anu_3_5_B_30_T_7_theta_60 = np.loadtxt('/home/zhaowei/Documents/data_summer/V_mode/kappa_V_anu_3_5_B_30_T_7_theta_60.txt')\n",
    "data_kappa_V_anu_3_5_B_30_T_8_theta_60 = np.loadtxt('/home/zhaowei/Documents/data_summer/V_mode/kappa_V_anu_3_5_B_30_T_8_theta_60.txt')\n",
    "data_kappa_V_anu_3_5_B_30_T_20_theta_60 = np.loadtxt('/home/zhaowei/Documents/data_summer/V_mode/kappa_V_anu_3_5_B_30_T_20_theta_60.txt')\n",
    "data_kappa_V_anu_3_5_B_30_T_30_theta_60 = np.loadtxt('/home/zhaowei/Documents/data_summer/V_mode/kappa_V_anu_3_5_B_30_T_30_theta_60.txt')\n",
    "data_kappa_V_anu_3_5_B_30_T_50_theta_60 = np.loadtxt('/home/zhaowei/Documents/data_summer/V_mode/kappa_V_anu_3_5_B_30_T_50_theta_60.txt')\n",
    "data_kappa_V_anu_3_5_B_30_T_60_theta_60 = np.loadtxt('/home/zhaowei/Documents/data_summer/V_mode/kappa_V_anu_3_5_B_30_T_60_theta_60.txt')\n",
    "data_kappa_V_anu_3_5_B_30_T_100_theta_60 = np.loadtxt('/home/zhaowei/Documents/data_summer/V_mode/kappa_V_anu_3_5_B_30_T_100_theta_60.txt')\n",
    "data_kappa_V_anu_3_5_B_30_T_200_theta_60 = np.loadtxt('/home/zhaowei/Documents/data_summer/V_mode/kappa_V_anu_3_5_B_30_T_200_theta_60.txt')\n",
    "\n",
    "data_kappa_V_anu_3_5_B_30_T_10_theta_10 = np.loadtxt('/home/zhaowei/Documents/data_summer/V_mode/kappa_V_anu_3_5_B_30_T_10_theta_60.txt')\n",
    "data_kappa_V_anu_3_5_B_30_T_10_theta_20 = np.loadtxt('/home/zhaowei/Documents/data_summer/V_mode/kappa_V_anu_3_5_B_30_T_10_theta_60.txt')\n",
    "data_kappa_V_anu_3_5_B_30_T_10_theta_30 = np.loadtxt('/home/zhaowei/Documents/data_summer/V_mode/kappa_V_anu_3_5_B_30_T_10_theta_60.txt')\n",
    "data_kappa_V_anu_3_5_B_30_T_10_theta_40 = np.loadtxt('/home/zhaowei/Documents/data_summer/V_mode/kappa_V_anu_3_5_B_30_T_10_theta_60.txt')\n",
    "data_kappa_V_anu_3_5_B_30_T_10_theta_50 = np.loadtxt('/home/zhaowei/Documents/data_summer/V_mode/kappa_V_anu_3_5_B_30_T_10_theta_60.txt')\n",
    "data_kappa_V_anu_3_5_B_30_T_10_theta_70 = np.loadtxt('/home/zhaowei/Documents/data_summer/V_mode/kappa_V_anu_3_5_B_30_T_10_theta_60.txt')\n",
    "data_kappa_V_anu_3_5_B_30_T_10_theta_80 = np.loadtxt('/home/zhaowei/Documents/data_summer/V_mode/kappa_V_anu_3_5_B_30_T_10_theta_60.txt')\n",
    "data_kappa_V_anu_3_5_B_30_T_10_theta_85 = np.loadtxt('/home/zhaowei/Documents/data_summer/V_mode/kappa_V_anu_3_5_B_30_T_10_theta_60.txt')\n",
    "\n",
    "\n",
    "\n",
    "#....................................begin terrible..................................................................#\n",
    "data_kappa_V_anu_3_5_B_30_T_3_theta_10 = np.loadtxt('/home/zhaowei/Documents/data_summer/V_mode/kappa_V_anu_3_5_B_30_T_3_theta_10.txt')\n",
    "data_kappa_V_anu_3_5_B_30_T_3_theta_20 = np.loadtxt('/home/zhaowei/Documents/data_summer/V_mode/kappa_V_anu_3_5_B_30_T_3_theta_20.txt')\n",
    "data_kappa_V_anu_3_5_B_30_T_3_theta_30 = np.loadtxt('/home/zhaowei/Documents/data_summer/V_mode/kappa_V_anu_3_5_B_30_T_3_theta_30.txt')\n",
    "data_kappa_V_anu_3_5_B_30_T_3_theta_40 = np.loadtxt('/home/zhaowei/Documents/data_summer/V_mode/kappa_V_anu_3_5_B_30_T_3_theta_40.txt')\n",
    "data_kappa_V_anu_3_5_B_30_T_3_theta_50 = np.loadtxt('/home/zhaowei/Documents/data_summer/V_mode/kappa_V_anu_3_5_B_30_T_3_theta_50.txt')\n",
    "data_kappa_V_anu_3_5_B_30_T_3_theta_70 = np.loadtxt('/home/zhaowei/Documents/data_summer/V_mode/kappa_V_anu_3_5_B_30_T_3_theta_70.txt')\n",
    "data_kappa_V_anu_3_5_B_30_T_3_theta_80 = np.loadtxt('/home/zhaowei/Documents/data_summer/V_mode/kappa_V_anu_3_5_B_30_T_3_theta_80.txt')\n",
    "data_kappa_V_anu_3_5_B_30_T_3_theta_85 = np.loadtxt('/home/zhaowei/Documents/data_summer/V_mode/kappa_V_anu_3_5_B_30_T_3_theta_85.txt')\n",
    "\n",
    "\n",
    "\n",
    "\n",
    "data_kappa_V_anu_3_5_B_30_T_7_theta_10 = np.loadtxt('/home/zhaowei/Documents/data_summer/V_mode/kappa_V_anu_3_5_B_30_T_7_theta_10.txt')\n",
    "data_kappa_V_anu_3_5_B_30_T_7_theta_20 = np.loadtxt('/home/zhaowei/Documents/data_summer/V_mode/kappa_V_anu_3_5_B_30_T_7_theta_20.txt')\n",
    "data_kappa_V_anu_3_5_B_30_T_7_theta_30 = np.loadtxt('/home/zhaowei/Documents/data_summer/V_mode/kappa_V_anu_3_5_B_30_T_7_theta_30.txt')\n",
    "data_kappa_V_anu_3_5_B_30_T_7_theta_40 = np.loadtxt('/home/zhaowei/Documents/data_summer/V_mode/kappa_V_anu_3_5_B_30_T_7_theta_40.txt')\n",
    "data_kappa_V_anu_3_5_B_30_T_7_theta_50 = np.loadtxt('/home/zhaowei/Documents/data_summer/V_mode/kappa_V_anu_3_5_B_30_T_7_theta_50.txt')\n",
    "data_kappa_V_anu_3_5_B_30_T_7_theta_70 = np.loadtxt('/home/zhaowei/Documents/data_summer/V_mode/kappa_V_anu_3_5_B_30_T_7_theta_70.txt')\n",
    "data_kappa_V_anu_3_5_B_30_T_7_theta_80 = np.loadtxt('/home/zhaowei/Documents/data_summer/V_mode/kappa_V_anu_3_5_B_30_T_7_theta_80.txt')\n",
    "data_kappa_V_anu_3_5_B_30_T_7_theta_85 = np.loadtxt('/home/zhaowei/Documents/data_summer/V_mode/kappa_V_anu_3_5_B_30_T_7_theta_85.txt')\n",
    "\n",
    "data_kappa_V_anu_3_5_B_30_T_30_theta_10 = np.loadtxt('/home/zhaowei/Documents/data_summer/V_mode/kappa_V_anu_3_5_B_30_T_30_theta_10.txt')\n",
    "data_kappa_V_anu_3_5_B_30_T_30_theta_20 = np.loadtxt('/home/zhaowei/Documents/data_summer/V_mode/kappa_V_anu_3_5_B_30_T_30_theta_20.txt')\n",
    "data_kappa_V_anu_3_5_B_30_T_30_theta_30 = np.loadtxt('/home/zhaowei/Documents/data_summer/V_mode/kappa_V_anu_3_5_B_30_T_30_theta_30.txt')\n",
    "data_kappa_V_anu_3_5_B_30_T_30_theta_40 = np.loadtxt('/home/zhaowei/Documents/data_summer/V_mode/kappa_V_anu_3_5_B_30_T_30_theta_40.txt')\n",
    "data_kappa_V_anu_3_5_B_30_T_30_theta_50 = np.loadtxt('/home/zhaowei/Documents/data_summer/V_mode/kappa_V_anu_3_5_B_30_T_30_theta_50.txt')\n",
    "data_kappa_V_anu_3_5_B_30_T_30_theta_70 = np.loadtxt('/home/zhaowei/Documents/data_summer/V_mode/kappa_V_anu_3_5_B_30_T_30_theta_70.txt')\n",
    "data_kappa_V_anu_3_5_B_30_T_30_theta_80 = np.loadtxt('/home/zhaowei/Documents/data_summer/V_mode/kappa_V_anu_3_5_B_30_T_30_theta_80.txt')\n",
    "data_kappa_V_anu_3_5_B_30_T_30_theta_85 = np.loadtxt('/home/zhaowei/Documents/data_summer/V_mode/kappa_V_anu_3_5_B_30_T_30_theta_85.txt')\n",
    "\n",
    "\n",
    "#....................................end terrible....................................................................#\n",
    "\n",
    "\n",
    "\n",
    "data_kappa_V_anu_4_B_30_T_10_theta_60 = np.loadtxt('/home/zhaowei/Documents/data_summer/V_mode/kappa_V_anu_4_B_30_T_10_theta_60.txt')\n",
    "\n",
    "data_kappa_V_anu_4_B_30_T_6_theta_70_n_2 = np.loadtxt('/home/zhaowei/Documents/data_summer/V_mode/kappa_V_anu_4_B_30_T_6_theta_70_n_2.txt')\n",
    "\n",
    "\n",
    "\n",
    "data_kappa_V_anu_4_5_B_30_T_10_theta_60 = np.loadtxt('/home/zhaowei/Documents/data_summer/V_mode/kappa_V_anu_4_5_B_30_T_10_theta_60.txt')\n",
    "\n",
    "data_kappa_V_anu_5_B_30_T_10_theta_60 = np.loadtxt('/home/zhaowei/Documents/data_summer/V_mode/kappa_V_anu_5_B_30_T_10_theta_60.txt')\n",
    "\n",
    "data_kappa_V_anu_5_B_10_T_20_theta_40_n_2 = np.loadtxt('/home/zhaowei/Documents/data_summer/V_mode/kappa_V_anu_5_B_10_T_20_theta_40_n_2.txt')\n",
    "\n",
    "data_kappa_V_anu_5_5_B_30_T_10_theta_60 = np.loadtxt('/home/zhaowei/Documents/data_summer/V_mode/kappa_V_anu_5_5_B_30_T_10_theta_60.txt')\n",
    "data_kappa_V_anu_6_B_30_T_10_theta_60 = np.loadtxt('/home/zhaowei/Documents/data_summer/V_mode/kappa_V_anu_6_B_30_T_10_theta_60.txt')\n",
    "data_kappa_V_anu_6_5_B_30_T_10_theta_60 = np.loadtxt('/home/zhaowei/Documents/data_summer/V_mode/kappa_V_anu_6_5_B_30_T_10_theta_60.txt')\n",
    "data_kappa_V_anu_7_B_30_T_10_theta_60 = np.loadtxt('/home/zhaowei/Documents/data_summer/V_mode/kappa_V_anu_7_B_30_T_10_theta_60.txt')\n",
    "\n",
    "\n",
    "\n",
    "\n",
    "\n",
    "\n",
    "\n",
    "\n",
    "\n"
   ]
  },
  {
   "cell_type": "code",
   "execution_count": 271,
   "metadata": {
    "collapsed": true
   },
   "outputs": [],
   "source": [
    "def kappa_low(nuratio):\n",
    "    nu = nuratio * nu_c\n",
    "    X = nu/nu_w\n",
    "    norm = 4. * np.pi * special.gamma(kappa-4./3.) / (3.**(7./3.) * special.gamma(kappa-2.))\n",
    "    dimensional = (n_e * e**2.)/(c * kappa**2. * w**2.)\n",
    "    ans = norm * dimensional * nu_w * X**(1./3.)\n",
    "    return ans\n",
    "\n",
    "def kappa_high(nuratio):\n",
    "    nu = nuratio * nu_c\n",
    "    X = nu/nu_w\n",
    "    term1 = (1./4.) * 3.**((kappa-1.)/2.) * (kappa-2.) * (kappa-1.)\n",
    "    term2 = special.gamma(kappa/4. - 1./3.) * special.gamma(kappa/4. + 4./3.) \n",
    "    term3 = (n_e * e**2. * nu_c * np.sin(theta)) / c\n",
    "    ans = term1*term2*term3 * X**(-(kappa-2.)/2.)\n",
    "    return ans\n",
    "\n",
    "\n",
    "\n",
    "\n",
    "def anu_low(nuratio):\n",
    "    \n",
    "    nu = nuratio * nu_c\n",
    "    \n",
    "    term1 = n_e * 3. * 3.**(1./6.) * e * (-2. + kappa) * (kappa - 1.) * kappa\n",
    "    term2 = (2. * np.pi)**(1./3.) * (kappa * w)**(-2. + kappa)\n",
    "    term3 = (1./np.sin(theta)) * special.gamma(5./3.)\n",
    "    term4 = special.hyp2f1(-1./3. + kappa, 1. + kappa, 2./3. + kappa, -kappa * w)\n",
    "    term5 = B*(-1.+3.*kappa)*((m*nu)/(B*e*np.sin(theta)))**(5./3.)\n",
    "    \n",
    "    f = term1*term2*term3*term4/term5\n",
    "    \n",
    "    \n",
    "    return f\n",
    "    \n",
    "\n",
    "    \n",
    "    \n",
    "def anu_high(nuratio):\n",
    "    \n",
    "    nu = nuratio * nu_c\n",
    "    \n",
    "    term1 = n_e/(3. * B * (2. + kappa))\n",
    "    term2 = 2.**((-1./2.) - kappa) * e * (- 2. + kappa ) * (-1. + kappa) * kappa\n",
    "    term3 = np.pi**(1. - kappa) * (kappa * w)**(-2. + kappa)\n",
    "    term4 = 1./np.sin(theta)\n",
    "    term5 = 2.**(1. + kappa/2.) * np.pi**(kappa/2.) * special.gamma(2. + kappa/2.)\n",
    "    term6 = 2**(1. + kappa/2.) * np.pi**(kappa/2.) + kappa * (2. * np.pi)**(kappa/2.)\n",
    "    term7 = special.gammainc(1. + kappa/2., 2. * c * m * nu * np.pi / (B * e * np.sin(theta)))\n",
    "    term8 = (B * e * np.sin(theta)/(c * m * nu))**((3. + kappa)/2.)\n",
    "    \n",
    "    f = term1 * term2 * term3 * term4 * (term5 - term6 * term7) * term8\n",
    "\n",
    "    return f\n"
   ]
  },
  {
   "cell_type": "code",
   "execution_count": null,
   "metadata": {
    "collapsed": true
   },
   "outputs": [],
   "source": []
  },
  {
   "cell_type": "code",
   "execution_count": 274,
   "metadata": {
    "collapsed": false
   },
   "outputs": [
    {
     "data": {
      "image/png": "[encoded data removed]",
      "text/plain": [
       "<matplotlib.figure.Figure at 0x7f8274139690>"
      ]
     },
     "metadata": {},
     "output_type": "display_data"
    },
    {
     "data": {
      "image/png": "[encoded data removed]",
      "text/plain": [
       "<matplotlib.figure.Figure at 0x7f8274748350>"
      ]
     },
     "metadata": {},
     "output_type": "display_data"
    }
   ],
   "source": [
    "x_8 = data_kappa_V_anu_3_5_B_30_T_30_theta_80[:,0]\n",
    "y_8 = -data_kappa_V_anu_3_5_B_30_T_30_theta_80[:,1]\n",
    "\n",
    "\n",
    "THW = 0.1\n",
    "\n",
    "AA = 1.5e-20\n",
    "\n",
    "BB = -0.35\n",
    "\n",
    "B_DEPEN = 1.\n",
    "\n",
    "\n",
    "\n",
    "\n",
    "#print THETA_DEPEN_LO\n",
    "\n",
    "def anu_low_8(nuratio):\n",
    "    \n",
    "    nu = nuratio * nu_c\n",
    "    \n",
    "    X = nu/nu_k\n",
    "    \n",
    "    f = THW * B_DEPEN * AA * anu_low(nuratio) * X**BB\n",
    "    return f\n",
    "\n",
    "pl.loglog(x_8, y_8, label = 'data')\n",
    "pl.loglog(x_8, anu_low_8(x_8), label = 'fit')\n",
    "\n",
    "pl.legend()\n",
    "pl.show()\n",
    "\n",
    "\n",
    "pl.semilogx(x_8, anu_low_8(x_8)/y_8 - 1.)\n",
    "\n",
    "pl.semilogx(x_8, 0*x_8)\n",
    "pl.semilogx(x_8, 0*x_8 + 0.1)\n",
    "pl.semilogx(x_8, 0*x_8 - 0.1)\n",
    "pl.semilogx(x_8, 0*x_8 + 0.2)\n",
    "pl.semilogx(x_8, 0*x_8 - 0.2)\n",
    "pl.ylim([-0.4,0.4])\n",
    "\n",
    "\n",
    "pl.legend()\n",
    "pl.show()"
   ]
  },
  {
   "cell_type": "code",
   "execution_count": null,
   "metadata": {
    "collapsed": true
   },
   "outputs": [],
   "source": []
  },
  {
   "cell_type": "code",
   "execution_count": null,
   "metadata": {
    "collapsed": true
   },
   "outputs": [],
   "source": []
  },
  {
   "cell_type": "code",
   "execution_count": null,
   "metadata": {
    "collapsed": true
   },
   "outputs": [],
   "source": []
  },
  {
   "cell_type": "code",
   "execution_count": null,
   "metadata": {
    "collapsed": true
   },
   "outputs": [],
   "source": []
  },
  {
   "cell_type": "code",
   "execution_count": null,
   "metadata": {
    "collapsed": true
   },
   "outputs": [],
   "source": []
  },
  {
   "cell_type": "code",
   "execution_count": 139,
   "metadata": {
    "collapsed": false
   },
   "outputs": [
    {
     "data": {
      "text/plain": [
       "(1.7777777777777777, 1.6666666666666667, 5.1923076923076925)"
      ]
     },
     "execution_count": 139,
     "metadata": {},
     "output_type": "execute_result"
    }
   ],
   "source": [
    "48./27., 5./3., 27./5.2"
   ]
  },
  {
   "cell_type": "code",
   "execution_count": 196,
   "metadata": {
    "collapsed": false
   },
   "outputs": [
    {
     "data": {
      "text/plain": [
       "(1.4, 1.4444444444444444)"
      ]
     },
     "execution_count": 196,
     "metadata": {},
     "output_type": "execute_result"
    }
   ],
   "source": [
    "7./5., 6.5/4.5"
   ]
  },
  {
   "cell_type": "code",
   "execution_count": null,
   "metadata": {
    "collapsed": true
   },
   "outputs": [],
   "source": []
  }
 ],
 "metadata": {
  "kernelspec": {
   "display_name": "Python 2",
   "language": "python",
   "name": "python2"
  },
  "language_info": {
   "codemirror_mode": {
    "name": "ipython",
    "version": 2
   },
   "file_extension": ".py",
   "mimetype": "text/x-python",
   "name": "python",
   "nbconvert_exporter": "python",
   "pygments_lexer": "ipython2",
   "version": "2.7.10"
  }
 },
 "nbformat": 4,
 "nbformat_minor": 0
}
