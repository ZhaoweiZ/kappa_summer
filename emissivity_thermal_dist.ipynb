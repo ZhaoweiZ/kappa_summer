{
 "cells": [
  {
   "cell_type": "code",
   "execution_count": 6,
   "metadata": {
    "collapsed": true
   },
   "outputs": [],
   "source": [
    "%matplotlib inline\n",
    "import numpy as np\n",
    "import pylab as pl\n",
    "import scipy.special as special\n",
    "from scipy.integrate import quad\n",
    "from scipy.integrate import nquad\n",
    "\n",
    "# Set plot parameters to make beautiful plots\n",
    "pl.rcParams['figure.figsize']  = 12, 7.5\n",
    "pl.rcParams['lines.linewidth'] = 1.5\n",
    "pl.rcParams['font.family']     = 'serif'\n",
    "pl.rcParams['font.weight']     = 'bold'\n",
    "pl.rcParams['font.size']       = 20  \n",
    "pl.rcParams['font.sans-serif'] = 'serif'\n",
    "#pl.rcParams['text.usetex']     = True\n",
    "pl.rcParams['axes.linewidth']  = 1.5\n",
    "pl.rcParams['axes.titlesize']  = 'medium'\n",
    "pl.rcParams['axes.labelsize']  = 'medium'\n",
    "\n",
    "pl.rcParams['xtick.major.size'] = 8     \n",
    "pl.rcParams['xtick.minor.size'] = 4     \n",
    "pl.rcParams['xtick.major.pad']  = 8     \n",
    "pl.rcParams['xtick.minor.pad']  = 8     \n",
    "pl.rcParams['xtick.color']      = 'k'     \n",
    "pl.rcParams['xtick.labelsize']  = 'medium'\n",
    "pl.rcParams['xtick.direction']  = 'in'    \n",
    "\n",
    "pl.rcParams['ytick.major.size'] = 8     \n",
    "pl.rcParams['ytick.minor.size'] = 4     \n",
    "pl.rcParams['ytick.major.pad']  = 8     \n",
    "pl.rcParams['ytick.minor.pad']  = 8     \n",
    "pl.rcParams['ytick.color']      = 'k'     \n",
    "pl.rcParams['ytick.labelsize']  = 'medium'\n",
    "pl.rcParams['ytick.direction']  = 'in'    "
   ]
  },
  {
   "cell_type": "code",
   "execution_count": 7,
   "metadata": {
    "collapsed": false
   },
   "outputs": [],
   "source": [
    "#want to plot the integrand in Eq. 60 of the paper\n",
    "#with filled in values of I(...), delta(yn), \n",
    "\n",
    "#constants in natural units\n",
    "#m = 1.\n",
    "#c = 1.\n",
    "theta_e = 10.\n",
    "#nu_c = 1\n",
    "#B = 10.\n",
    "#e = 1\n",
    "\n",
    "\n",
    "#constants in Gaussian cgs units (values from harmony)\n",
    "m = 9.1093826e-28\n",
    "c = 2.99792458e10\n",
    "e = 4.80320680e-10\n",
    "B = 30.0\n",
    "#n_e = 100000.\n",
    "\n",
    "\n",
    "theta = np.pi/3.\n",
    "epsilon = 0.01\n",
    "n_e = 1\n",
    "nu_c = e * B / (2. * np.pi * m * c)\n",
    "nu = 1. * nu_c\n",
    "nu_s = (2./9.) * nu_c * theta_e**2 * np.sin(theta)\n",
    "\n",
    "#cos_xi = np.arange(-1., 1., 2./100)\n",
    "#cos_xi = (gamma * nu - n_e * nu_c) / (gamma * nu * beta * np.cos(theta))\n",
    "#gamma = np.arange(1, 11, 0.1)\n",
    "\n",
    "#def delta_function(n, gamma):\n",
    "#    beta = np.sqrt(1. - 1./gamma**2.)\n",
    "#    cos_xi = (gamma * nu - n_e * nu_c) / (gamma * nu * beta * np.cos(theta))\n",
    "#    argument = (n * nu_c)/gamma - nu * (1 - beta * cos_xi * np.cos(theta))\n",
    "#    f = (1/(epsilon * np.sqrt(np.pi))) * np.exp(-argument**2./epsilon**2.)\n",
    "#    return f\n",
    "\n",
    "\n",
    "n_dn = (nu / nu_c) * abs(np.sin(theta))\n",
    "#beta_here = np.sqrt(1. - 1./((1. + theta_e)**2)) \n",
    "#ans = (theta_e + 1.) * (nu/nu_c) * (1. - beta_here**2 * (np.cos(theta))**2)\n",
    "C = 10.\n",
    "\n",
    "#def n_up(gamma):\n",
    "#    beta = np.sqrt(1. - 1./gamma**2.)\n",
    "#    ans = 10.* (theta_e + 1. + (2. * theta_e * nu/nu_c)**(1./3.)) * (nu/nu_c) * (1. - beta**2 * (np.cos(theta))**2)\n",
    "#    return ans\n",
    "    \n",
    "    \n",
    "def K_s(n, gamma):\n",
    "    beta = np.sqrt(1. - 1./gamma**2.)\n",
    "    cos_xi = (gamma * nu - n * nu_c) / (gamma * nu * beta * np.cos(theta))\n",
    "    M = (np.cos(theta) - beta * cos_xi)/np.sin(theta)\n",
    "    N = beta * np.sqrt(1. - cos_xi**2)\n",
    "    z = (nu * gamma * beta * np.sin(theta) * np.sqrt(1. - cos_xi**2))/nu_c\n",
    "    K_xx = M**2 * (special.jv(n, z))**2\n",
    "    K_yy = N**2 * (special.jvp(n, z, 1))**2\n",
    "    ans = K_xx + K_yy\n",
    "    return ans\n",
    "\n",
    "def MJ_f(gamma):\n",
    "    beta = np.sqrt(1. - 1./gamma**2.)\n",
    "    prefactor_MJ  = 1. / (m**3 * c**3 * gamma**2 * beta)\n",
    "    thermal_dist_prefactor = n_e / (4. * np.pi * theta_e)\n",
    "    thermal_dist_exp = np.exp(- gamma/theta_e)\n",
    "    thermal_dist_body = gamma * np.sqrt(gamma**2 - 1.)/special.kn(2., 1./theta_e)\n",
    "    thermal_dist = thermal_dist_prefactor * thermal_dist_body * thermal_dist_exp\n",
    "    MJ = prefactor_MJ * thermal_dist\n",
    "    return MJ\n",
    "\n",
    "#def jnu_integrand_in_eq60(cos_xi, gamma, n):\n",
    "#    beta = np.sqrt(1. - 1./gamma**2.)\n",
    "    \n",
    "#    prefactor_Jnu = 2. * np.pi * e**2 * nu**2 / c\n",
    "    \n",
    "#    d_3_p = m**3 * c**3 * gamma**2 * beta * 2 * np.pi\n",
    "    \n",
    "#    I = prefactor_Jnu * MJ_f(gamma) * d_3_p * K_s(n, gamma, cos_xi)\n",
    "    \n",
    "#    f = delta_function(n, gamma, cos_xi) * I\n",
    "\n",
    "\n",
    "#   change the order of integral, which means integral over gamma first, then sum over n\n",
    "\n",
    "def I_in_eq62(gamma, n):\n",
    "    \n",
    "    beta = np.sqrt(1. - 1./gamma**2.)\n",
    "    cos_xi = (gamma * nu - n * nu_c) / (gamma * nu * beta * np.cos(theta))\n",
    "    \n",
    "    prefactor_Jnu = 2. * np.pi * e**2 * nu**2 / c\n",
    "    d_3_p = m**3 * c**3 * gamma**2 * beta * 2 * np.pi\n",
    "    \n",
    "    ans = prefactor_Jnu * MJ_f(gamma) * d_3_p * K_s(n, gamma)\n",
    "    \n",
    "    return ans\n",
    "\n",
    "def gamma_up_limit(n):\n",
    "    gamma_up_nume = (n * nu_c /nu) + np.absolute(np.cos(theta)) * np.sqrt((n * nu_c /nu)**2 - (np.sin(theta))**2)\n",
    "    gamma_deno = (np.sin(theta))**2\n",
    "    gamma_up = gamma_up_nume / gamma_deno\n",
    "    return gamma_up\n",
    "\n",
    "def gamma_dn_limit(n):\n",
    "    gamma_dn_nume = (n * nu_c /nu) - np.absolute(np.cos(theta)) * np.sqrt((n * nu_c /nu)**2 - (np.sin(theta))**2)\n",
    "    gamma_deno = (np.sin(theta))**2\n",
    "    gamma_dn = gamma_dn_nume / gamma_deno\n",
    "    return gamma_dn\n",
    "    \n",
    "    \n",
    "def jnu_integrand_in_eq62(gamma, n):\n",
    "    \n",
    "    beta = np.sqrt(1. - 1./gamma**2.)\n",
    "    cos_xi = (gamma * nu - n * nu_c) / (gamma * nu * beta * np.cos(theta))\n",
    "    \n",
    "    prefactor_62 = 1. / (nu * beta * np.absolute(np.cos(theta)))\n",
    "    \n",
    "    f = prefactor_62 * I_in_eq62(gamma, n)\n",
    "    \n",
    "    return f\n",
    "\n",
    "def jnu_n_integral_62_one(n):\n",
    "    \n",
    "    def jnu_integrand_in_eq62_gamma(gamma):\n",
    "        jnu_integrand_62 = jnu_integrand_in_eq62(gamma, n)\n",
    "        return jnu_integrand_62\n",
    "    \n",
    "    ans_once = quad(jnu_integrand_in_eq62_gamma, gamma_dn_limit(n), gamma_up_limit(n), epsabs = 0, epsrel = 1e-8)[0]\n",
    "    \n",
    "    return ans_once\n",
    "\n",
    "#print jnu_n_integral_62_one(500)\n",
    "\n",
    "#def n_peak(nu):\n",
    "#    if nu < nu_c * theta_e**2:\n",
    "#        beta_here = np.sqrt(1. - 1./((1. + theta_e)**2)) \n",
    "#        ans = (theta_e + 1.) * (nu/nu_c) * (1. - beta_here**2 * (np.cos(theta))**2)\n",
    "#    else:\n",
    "#        beta_here = np.sqrt(1. - (2. * theta_e * nu / nu_c)**(- 2./3.))\n",
    "#        ans = (2. * theta_e * nu /nu_c )**(1./3.) * (nu/nu_c) * (1. - beta_here**2 * (np.cos(theta))**2)\n",
    "#    return ans\n",
    "\n",
    "gamma_here_1 = np.sqrt((1. + theta_e) * (2. * theta_e * nu/nu_c)**(1./3.))\n",
    "beta_here_1  = np.sqrt(1. - 1./(gamma_here_1**2))\n",
    "n_peak_first_part = (theta_e + 1. + (2. * theta_e * nu/nu_c)**(1./3.))\n",
    "n_peak_second_part = (nu/nu_c) * (1. - (beta_here_1 * np.cos(theta))**2)\n",
    "n_peak       = n_peak_first_part * n_peak_second_part\n",
    "\n",
    "\n",
    "def jnu_62_integral_from_n_max_to_n_limit(n_max, n_dn):\n",
    "    \n",
    "    if(n_max < n_dn):\n",
    "        n_max = n_dn\n",
    "    \n",
    "    ans = quad(jnu_n_integral_62_one, n_max, C * n_peak, epsabs = 0, epsrel = 1e-8)[0]\n",
    "    \n",
    "    return ans\n",
    "    \n",
    "\n",
    "def jnu_62_sum_to_n_max_integral_to_n_limit(n_max_sum):\n",
    "    ans = 0\n",
    "    for i in range(int(n_dn + 1.), int(1 + n_dn + n_max_sum)):\n",
    "        ans = ans + jnu_n_integral_62_one(i)\n",
    "#        print ans\n",
    "        \n",
    "    total = ans + jnu_62_integral_from_n_max_to_n_limit(n_max_sum, n_dn)\n",
    "    return total\n",
    "\n",
    "#print n_peak"
   ]
  },
  {
   "cell_type": "code",
   "execution_count": 8,
   "metadata": {
    "collapsed": false
   },
   "outputs": [
    {
     "name": "stdout",
     "output_type": "stream",
     "text": [
      "1.10219750953e-22\n"
     ]
    }
   ],
   "source": [
    "n_max_sum = 30.\n",
    "\n",
    "print jnu_62_sum_to_n_max_integral_to_n_limit(n_max_sum)\n",
    "#print jnu_62_integral_from_n_max_to_n_limit(n_max_sum, n_dn)"
   ]
  },
  {
   "cell_type": "code",
   "execution_count": 17,
   "metadata": {
    "collapsed": false
   },
   "outputs": [
    {
     "ename": "NameError",
     "evalue": "name 'beta_here' is not defined",
     "output_type": "error",
     "traceback": [
      "\u001b[0;31m---------------------------------------------------------------------------\u001b[0m",
      "\u001b[0;31mNameError\u001b[0m                                 Traceback (most recent call last)",
      "\u001b[0;32m<ipython-input-17-3360288cc6c1>\u001b[0m in \u001b[0;36m<module>\u001b[0;34m()\u001b[0m\n\u001b[0;32m----> 1\u001b[0;31m \u001b[0mn_up\u001b[0m \u001b[0;34m=\u001b[0m \u001b[0;36m10.\u001b[0m \u001b[0;34m*\u001b[0m \u001b[0;34m(\u001b[0m\u001b[0mtheta_e\u001b[0m \u001b[0;34m+\u001b[0m \u001b[0;36m1.\u001b[0m\u001b[0;34m)\u001b[0m \u001b[0;34m*\u001b[0m \u001b[0;34m(\u001b[0m\u001b[0mnu\u001b[0m\u001b[0;34m/\u001b[0m\u001b[0mnu_c\u001b[0m\u001b[0;34m)\u001b[0m \u001b[0;34m*\u001b[0m \u001b[0;34m(\u001b[0m\u001b[0;36m1.\u001b[0m \u001b[0;34m-\u001b[0m \u001b[0mbeta_here\u001b[0m\u001b[0;34m**\u001b[0m\u001b[0;36m2\u001b[0m \u001b[0;34m*\u001b[0m \u001b[0;34m(\u001b[0m\u001b[0mnp\u001b[0m\u001b[0;34m.\u001b[0m\u001b[0mcos\u001b[0m\u001b[0;34m(\u001b[0m\u001b[0mtheta\u001b[0m\u001b[0;34m)\u001b[0m\u001b[0;34m)\u001b[0m\u001b[0;34m**\u001b[0m\u001b[0;36m2\u001b[0m\u001b[0;34m)\u001b[0m\u001b[0;34m\u001b[0m\u001b[0m\n\u001b[0m\u001b[1;32m      2\u001b[0m \u001b[0;32mprint\u001b[0m \u001b[0mn_up\u001b[0m\u001b[0;34m\u001b[0m\u001b[0m\n",
      "\u001b[0;31mNameError\u001b[0m: name 'beta_here' is not defined"
     ]
    }
   ],
   "source": [
    "n_up = 10. * (theta_e + 1.) * (nu/nu_c) * (1. - beta_here**2 * (np.cos(theta))**2)\n",
    "print n_up"
   ]
  },
  {
   "cell_type": "code",
   "execution_count": null,
   "metadata": {
    "collapsed": false
   },
   "outputs": [],
   "source": []
  },
  {
   "cell_type": "code",
   "execution_count": 4,
   "metadata": {
    "collapsed": false
   },
   "outputs": [
    {
     "data": {
      "text/plain": [
       "[<matplotlib.lines.Line2D at 0x1048a3890>]"
      ]
     },
     "execution_count": 4,
     "metadata": {},
     "output_type": "execute_result"
    },
    {
     "data": {
      "image/png": "[encoded data removed]",
      "text/plain": [
       "<matplotlib.figure.Figure at 0x104882e90>"
      ]
     },
     "metadata": {},
     "output_type": "display_data"
    }
   ],
   "source": [
    "data = np.loadtxt('/Users/zbrawei/Documents/summer_new/my_data_1/thermal_data.txt')\n",
    "pl.loglog(data[:,0], data[:,1])"
   ]
  },
  {
   "cell_type": "code",
   "execution_count": 5,
   "metadata": {
    "collapsed": false
   },
   "outputs": [
    {
     "ename": "MemoryError",
     "evalue": "",
     "output_type": "error",
     "traceback": [
      "\u001b[0;31m---------------------------------------------------------------------------\u001b[0m",
      "\u001b[0;31mMemoryError\u001b[0m                               Traceback (most recent call last)",
      "\u001b[0;32m<ipython-input-5-400f0b0818b6>\u001b[0m in \u001b[0;36m<module>\u001b[0;34m()\u001b[0m\n\u001b[1;32m      7\u001b[0m     \u001b[0;32mreturn\u001b[0m \u001b[0mjnu_approximation_72\u001b[0m\u001b[0;34m\u001b[0m\u001b[0m\n\u001b[1;32m      8\u001b[0m \u001b[0;34m\u001b[0m\u001b[0m\n\u001b[0;32m----> 9\u001b[0;31m \u001b[0mx\u001b[0m \u001b[0;34m=\u001b[0m \u001b[0mnp\u001b[0m\u001b[0;34m.\u001b[0m\u001b[0marange\u001b[0m\u001b[0;34m(\u001b[0m\u001b[0;36m10\u001b[0m\u001b[0;34m*\u001b[0m\u001b[0mnu_c\u001b[0m\u001b[0;34m,\u001b[0m \u001b[0;36m1000000\u001b[0m\u001b[0;34m*\u001b[0m\u001b[0mnu_c\u001b[0m\u001b[0;34m,\u001b[0m \u001b[0;36m1\u001b[0m\u001b[0;34m)\u001b[0m\u001b[0;34m\u001b[0m\u001b[0m\n\u001b[0m\u001b[1;32m     10\u001b[0m \u001b[0mpl\u001b[0m\u001b[0;34m.\u001b[0m\u001b[0mxlabel\u001b[0m\u001b[0;34m(\u001b[0m\u001b[0;34m\"$\\\\nu$/$\\\\nu_c$\"\u001b[0m\u001b[0;34m)\u001b[0m\u001b[0;34m\u001b[0m\u001b[0m\n\u001b[1;32m     11\u001b[0m \u001b[0mpl\u001b[0m\u001b[0;34m.\u001b[0m\u001b[0mylabel\u001b[0m\u001b[0;34m(\u001b[0m\u001b[0;34m\"j$_\\\\nu$\"\u001b[0m\u001b[0;34m)\u001b[0m\u001b[0;34m\u001b[0m\u001b[0m\n",
      "\u001b[0;31mMemoryError\u001b[0m: "
     ]
    }
   ],
   "source": [
    "def jnu_72(x):\n",
    "    jnu_72_prefactor = n_e * np.sqrt(2) * np.pi * e**2 * nu_s / (3. * special.kn(2., 1./theta_e) * c)\n",
    "    jnu_72_body = (np.sqrt(x/nu_s) + 2.**(11./12.) * (x/nu_s)**(1./6.))**2\n",
    "    jnu_72_exp = np.exp(- (x/nu_s)**(1./3.))\n",
    "    jnu_approximation_72 = jnu_72_prefactor * jnu_72_body * jnu_72_exp\n",
    "    \n",
    "    return jnu_approximation_72\n",
    "\n",
    "x = np.arange(10*nu_c, 1000000*nu_c, 1)\n",
    "pl.xlabel(\"$\\\\nu$/$\\\\nu_c$\")\n",
    "pl.ylabel(\"j$_\\\\nu$\")\n",
    "\n",
    "data = np.loadtxt('/Users/zbrawei/Documents/summer_new/my_data_1/thermal_data.txt')\n",
    "\n",
    "#since we are plotting nu/nu_c, and X = nu/nu_s, we\n",
    "#need to plot (X * nu_s)/nu_c, eq_72(X)\n",
    "pl.loglog(data[:, 0], data[:, 1], label = 'MJ')\n",
    "pl.loglog(x/nu_c, jnu_72(x), label = 'Eq. 72')\n",
    "pl.legend(loc = 'lower left')\n",
    "pl.title(\"MJ vs Eq.72\")\n",
    "pl.show()\n"
   ]
  },
  {
   "cell_type": "code",
   "execution_count": 10,
   "metadata": {
    "collapsed": false
   },
   "outputs": [],
   "source": [
    "def jnu_compare_62_vs_72(n_max_sum):\n",
    "    ans =(jnu_72(nu)/jnu_62_sum_to_n_max_integral_to_n_limit(n_max_sum)) - 1.\n",
    "    return ans"
   ]
  },
  {
   "cell_type": "code",
   "execution_count": 11,
   "metadata": {
    "collapsed": false
   },
   "outputs": [
    {
     "data": {
      "text/plain": [
       "9.0481276771540315"
      ]
     },
     "execution_count": 11,
     "metadata": {},
     "output_type": "execute_result"
    }
   ],
   "source": [
    "n_max_sum = 30\n",
    "jnu_compare_62_vs_72(n_max_sum)"
   ]
  },
  {
   "cell_type": "code",
   "execution_count": 5,
   "metadata": {
    "collapsed": false
   },
   "outputs": [
    {
     "data": {
      "image/png": "[encoded data removed]",
      "text/plain": [
       "<matplotlib.figure.Figure at 0x1096d2d10>"
      ]
     },
     "metadata": {},
     "output_type": "display_data"
    }
   ],
   "source": [
    "data = np.loadtxt('/Users/zhaoweizhang/Documents/summer_new/my_data_1/thermal_data.txt')\n",
    "\n",
    "def error_thermal_with_eq72():\n",
    "    \n",
    "    data_x = data[:, 0]\n",
    "    \n",
    "    ans = jnu_72(data_x * nu_c)\n",
    "    \n",
    "    error = ans / data[:, 1] - 1.\n",
    "    \n",
    "    return error\n",
    "    \n",
    "pl.xlabel(\"$\\\\nu$/$\\\\nu_c$\")\n",
    "pl.ylabel(\"$j_\\\\nu72$ / $j_\\\\nu$  -  1\")\n",
    "\n",
    "pl.semilogx(data[:, 0], error_thermal_with_eq72(), label = 'thermal error')\n",
    "pl.ylim([-0.1,0.1])\n",
    "\n",
    "pl.legend()\n",
    "pl.title(\"MJ error compared with Eq.72\")\n",
    "pl.show()\n",
    "    "
   ]
  },
  {
   "cell_type": "code",
   "execution_count": null,
   "metadata": {
    "collapsed": false
   },
   "outputs": [],
   "source": []
  },
  {
   "cell_type": "code",
   "execution_count": 136,
   "metadata": {
    "collapsed": false
   },
   "outputs": [
    {
     "data": {
      "text/plain": [
       "10000000000.0"
      ]
     },
     "execution_count": 136,
     "metadata": {},
     "output_type": "execute_result"
    }
   ],
   "source": [
    "1e10"
   ]
  },
  {
   "cell_type": "code",
   "execution_count": 137,
   "metadata": {
    "collapsed": false
   },
   "outputs": [
    {
     "data": {
      "text/plain": [
       "100.0"
      ]
     },
     "execution_count": 137,
     "metadata": {},
     "output_type": "execute_result"
    }
   ],
   "source": [
    "1e2"
   ]
  },
  {
   "cell_type": "code",
   "execution_count": 138,
   "metadata": {
    "collapsed": false
   },
   "outputs": [
    {
     "data": {
      "text/plain": [
       "10.0"
      ]
     },
     "execution_count": 138,
     "metadata": {},
     "output_type": "execute_result"
    }
   ],
   "source": [
    "1e1"
   ]
  },
  {
   "cell_type": "code",
   "execution_count": 139,
   "metadata": {
    "collapsed": false
   },
   "outputs": [
    {
     "data": {
      "text/plain": [
       "100000000000.0"
      ]
     },
     "execution_count": 139,
     "metadata": {},
     "output_type": "execute_result"
    }
   ],
   "source": [
    "10e10"
   ]
  },
  {
   "cell_type": "code",
   "execution_count": 141,
   "metadata": {
    "collapsed": false
   },
   "outputs": [
    {
     "data": {
      "text/plain": [
       "100.0"
      ]
     },
     "execution_count": 141,
     "metadata": {},
     "output_type": "execute_result"
    }
   ],
   "source": [
    "10.e1"
   ]
  },
  {
   "cell_type": "code",
   "execution_count": null,
   "metadata": {
    "collapsed": true
   },
   "outputs": [],
   "source": []
  }
 ],
 "metadata": {
  "kernelspec": {
   "display_name": "Python 2",
   "language": "python",
   "name": "python2"
  },
  "language_info": {
   "codemirror_mode": {
    "name": "ipython",
    "version": 2
   },
   "file_extension": ".py",
   "mimetype": "text/x-python",
   "name": "python",
   "nbconvert_exporter": "python",
   "pygments_lexer": "ipython2",
   "version": "2.7.10"
  }
 },
 "nbformat": 4,
 "nbformat_minor": 0
}
